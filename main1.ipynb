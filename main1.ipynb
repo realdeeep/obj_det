{
 "cells": [
  {
   "cell_type": "code",
   "execution_count": 46,
   "id": "initial_id",
   "metadata": {
    "collapsed": true,
    "ExecuteTime": {
     "end_time": "2023-11-28T17:27:01.654325100Z",
     "start_time": "2023-11-28T17:27:01.631308400Z"
    }
   },
   "outputs": [],
   "source": [
    "import os\n",
    "from keras.callbacks import EarlyStopping\n",
    "import tensorflow as tf\n",
    "import numpy as np\n",
    "import pandas as pd\n",
    "from keras import layers, models"
   ]
  },
  {
   "cell_type": "code",
   "execution_count": 69,
   "outputs": [],
   "source": [
    "train_data = pd.read_csv('archive/sign_mnist_train/sign_mnist_train.csv')"
   ],
   "metadata": {
    "collapsed": false,
    "ExecuteTime": {
     "end_time": "2023-11-28T17:43:32.758503100Z",
     "start_time": "2023-11-28T17:43:30.769542500Z"
    }
   },
   "id": "dd8db18214afd447"
  },
  {
   "cell_type": "code",
   "execution_count": 30,
   "outputs": [
    {
     "data": {
      "text/plain": "       pixel1  pixel2  pixel3  pixel4  pixel5  pixel6  pixel7  pixel8  pixel9  \\\n0         107     118     127     134     139     143     146     150     153   \n1         155     157     156     156     156     157     156     158     158   \n2         187     188     188     187     187     186     187     188     187   \n3         211     211     212     212     211     210     211     210     210   \n4         164     167     170     172     176     179     180     184     185   \n...       ...     ...     ...     ...     ...     ...     ...     ...     ...   \n27450     189     189     190     190     192     193     193     193     193   \n27451     151     154     157     158     160     161     163     164     166   \n27452     174     174     174     174     174     175     175     174     173   \n27453     177     181     184     185     187     189     190     191     191   \n27454     179     180     180     180     182     181     182     183     182   \n\n       pixel10  ...  pixel775  pixel776  pixel777  pixel778  pixel779  \\\n0          156  ...       207       207       207       207       206   \n1          157  ...        69       149       128        87        94   \n2          186  ...       202       201       200       199       198   \n3          211  ...       235       234       233       231       230   \n4          186  ...        92       105       105       108       133   \n...        ...  ...       ...       ...       ...       ...       ...   \n27450      194  ...       132       165        99        77        52   \n27451      167  ...       198       198       198       198       198   \n27452      173  ...       121       196       209       208       206   \n27453      190  ...       119        56        27        58       102   \n27454      182  ...       108       132       170       194       214   \n\n       pixel780  pixel781  pixel782  pixel783  pixel784  \n0           206       206       204       203       202  \n1           163       175       103       135       149  \n2           199       198       195       194       195  \n3           226       225       222       229       163  \n4           163       157       163       164       179  \n...         ...       ...       ...       ...       ...  \n27450       200       234       200       222       225  \n27451       196       195       195       195       194  \n27452       204       203       202       200       200  \n27453        79        47        64        87        93  \n27454       203       197       205       209       215  \n\n[27455 rows x 784 columns]",
      "text/html": "<div>\n<style scoped>\n    .dataframe tbody tr th:only-of-type {\n        vertical-align: middle;\n    }\n\n    .dataframe tbody tr th {\n        vertical-align: top;\n    }\n\n    .dataframe thead th {\n        text-align: right;\n    }\n</style>\n<table border=\"1\" class=\"dataframe\">\n  <thead>\n    <tr style=\"text-align: right;\">\n      <th></th>\n      <th>pixel1</th>\n      <th>pixel2</th>\n      <th>pixel3</th>\n      <th>pixel4</th>\n      <th>pixel5</th>\n      <th>pixel6</th>\n      <th>pixel7</th>\n      <th>pixel8</th>\n      <th>pixel9</th>\n      <th>pixel10</th>\n      <th>...</th>\n      <th>pixel775</th>\n      <th>pixel776</th>\n      <th>pixel777</th>\n      <th>pixel778</th>\n      <th>pixel779</th>\n      <th>pixel780</th>\n      <th>pixel781</th>\n      <th>pixel782</th>\n      <th>pixel783</th>\n      <th>pixel784</th>\n    </tr>\n  </thead>\n  <tbody>\n    <tr>\n      <th>0</th>\n      <td>107</td>\n      <td>118</td>\n      <td>127</td>\n      <td>134</td>\n      <td>139</td>\n      <td>143</td>\n      <td>146</td>\n      <td>150</td>\n      <td>153</td>\n      <td>156</td>\n      <td>...</td>\n      <td>207</td>\n      <td>207</td>\n      <td>207</td>\n      <td>207</td>\n      <td>206</td>\n      <td>206</td>\n      <td>206</td>\n      <td>204</td>\n      <td>203</td>\n      <td>202</td>\n    </tr>\n    <tr>\n      <th>1</th>\n      <td>155</td>\n      <td>157</td>\n      <td>156</td>\n      <td>156</td>\n      <td>156</td>\n      <td>157</td>\n      <td>156</td>\n      <td>158</td>\n      <td>158</td>\n      <td>157</td>\n      <td>...</td>\n      <td>69</td>\n      <td>149</td>\n      <td>128</td>\n      <td>87</td>\n      <td>94</td>\n      <td>163</td>\n      <td>175</td>\n      <td>103</td>\n      <td>135</td>\n      <td>149</td>\n    </tr>\n    <tr>\n      <th>2</th>\n      <td>187</td>\n      <td>188</td>\n      <td>188</td>\n      <td>187</td>\n      <td>187</td>\n      <td>186</td>\n      <td>187</td>\n      <td>188</td>\n      <td>187</td>\n      <td>186</td>\n      <td>...</td>\n      <td>202</td>\n      <td>201</td>\n      <td>200</td>\n      <td>199</td>\n      <td>198</td>\n      <td>199</td>\n      <td>198</td>\n      <td>195</td>\n      <td>194</td>\n      <td>195</td>\n    </tr>\n    <tr>\n      <th>3</th>\n      <td>211</td>\n      <td>211</td>\n      <td>212</td>\n      <td>212</td>\n      <td>211</td>\n      <td>210</td>\n      <td>211</td>\n      <td>210</td>\n      <td>210</td>\n      <td>211</td>\n      <td>...</td>\n      <td>235</td>\n      <td>234</td>\n      <td>233</td>\n      <td>231</td>\n      <td>230</td>\n      <td>226</td>\n      <td>225</td>\n      <td>222</td>\n      <td>229</td>\n      <td>163</td>\n    </tr>\n    <tr>\n      <th>4</th>\n      <td>164</td>\n      <td>167</td>\n      <td>170</td>\n      <td>172</td>\n      <td>176</td>\n      <td>179</td>\n      <td>180</td>\n      <td>184</td>\n      <td>185</td>\n      <td>186</td>\n      <td>...</td>\n      <td>92</td>\n      <td>105</td>\n      <td>105</td>\n      <td>108</td>\n      <td>133</td>\n      <td>163</td>\n      <td>157</td>\n      <td>163</td>\n      <td>164</td>\n      <td>179</td>\n    </tr>\n    <tr>\n      <th>...</th>\n      <td>...</td>\n      <td>...</td>\n      <td>...</td>\n      <td>...</td>\n      <td>...</td>\n      <td>...</td>\n      <td>...</td>\n      <td>...</td>\n      <td>...</td>\n      <td>...</td>\n      <td>...</td>\n      <td>...</td>\n      <td>...</td>\n      <td>...</td>\n      <td>...</td>\n      <td>...</td>\n      <td>...</td>\n      <td>...</td>\n      <td>...</td>\n      <td>...</td>\n      <td>...</td>\n    </tr>\n    <tr>\n      <th>27450</th>\n      <td>189</td>\n      <td>189</td>\n      <td>190</td>\n      <td>190</td>\n      <td>192</td>\n      <td>193</td>\n      <td>193</td>\n      <td>193</td>\n      <td>193</td>\n      <td>194</td>\n      <td>...</td>\n      <td>132</td>\n      <td>165</td>\n      <td>99</td>\n      <td>77</td>\n      <td>52</td>\n      <td>200</td>\n      <td>234</td>\n      <td>200</td>\n      <td>222</td>\n      <td>225</td>\n    </tr>\n    <tr>\n      <th>27451</th>\n      <td>151</td>\n      <td>154</td>\n      <td>157</td>\n      <td>158</td>\n      <td>160</td>\n      <td>161</td>\n      <td>163</td>\n      <td>164</td>\n      <td>166</td>\n      <td>167</td>\n      <td>...</td>\n      <td>198</td>\n      <td>198</td>\n      <td>198</td>\n      <td>198</td>\n      <td>198</td>\n      <td>196</td>\n      <td>195</td>\n      <td>195</td>\n      <td>195</td>\n      <td>194</td>\n    </tr>\n    <tr>\n      <th>27452</th>\n      <td>174</td>\n      <td>174</td>\n      <td>174</td>\n      <td>174</td>\n      <td>174</td>\n      <td>175</td>\n      <td>175</td>\n      <td>174</td>\n      <td>173</td>\n      <td>173</td>\n      <td>...</td>\n      <td>121</td>\n      <td>196</td>\n      <td>209</td>\n      <td>208</td>\n      <td>206</td>\n      <td>204</td>\n      <td>203</td>\n      <td>202</td>\n      <td>200</td>\n      <td>200</td>\n    </tr>\n    <tr>\n      <th>27453</th>\n      <td>177</td>\n      <td>181</td>\n      <td>184</td>\n      <td>185</td>\n      <td>187</td>\n      <td>189</td>\n      <td>190</td>\n      <td>191</td>\n      <td>191</td>\n      <td>190</td>\n      <td>...</td>\n      <td>119</td>\n      <td>56</td>\n      <td>27</td>\n      <td>58</td>\n      <td>102</td>\n      <td>79</td>\n      <td>47</td>\n      <td>64</td>\n      <td>87</td>\n      <td>93</td>\n    </tr>\n    <tr>\n      <th>27454</th>\n      <td>179</td>\n      <td>180</td>\n      <td>180</td>\n      <td>180</td>\n      <td>182</td>\n      <td>181</td>\n      <td>182</td>\n      <td>183</td>\n      <td>182</td>\n      <td>182</td>\n      <td>...</td>\n      <td>108</td>\n      <td>132</td>\n      <td>170</td>\n      <td>194</td>\n      <td>214</td>\n      <td>203</td>\n      <td>197</td>\n      <td>205</td>\n      <td>209</td>\n      <td>215</td>\n    </tr>\n  </tbody>\n</table>\n<p>27455 rows × 784 columns</p>\n</div>"
     },
     "execution_count": 30,
     "metadata": {},
     "output_type": "execute_result"
    }
   ],
   "source": [
    "train_labels = train_data['label']\n",
    "train_data = train_data.drop(columns=['label'])"
   ],
   "metadata": {
    "collapsed": false,
    "ExecuteTime": {
     "end_time": "2023-11-28T16:51:30.489060Z",
     "start_time": "2023-11-28T16:51:30.402517200Z"
    }
   },
   "id": "20893d53ccee50f0"
  },
  {
   "cell_type": "code",
   "execution_count": 31,
   "outputs": [],
   "source": [
    "train_data = train_data.to_numpy()\n",
    "train_data = train_data.reshape((-1, 28, 28, 1))"
   ],
   "metadata": {
    "collapsed": false,
    "ExecuteTime": {
     "end_time": "2023-11-28T16:51:38.204871200Z",
     "start_time": "2023-11-28T16:51:38.182871400Z"
    }
   },
   "id": "a8119cb9bf127156"
  },
  {
   "cell_type": "code",
   "execution_count": 32,
   "outputs": [],
   "source": [
    "train_labels = train_labels.to_numpy()\n",
    "train_data = train_data/255"
   ],
   "metadata": {
    "collapsed": false,
    "ExecuteTime": {
     "end_time": "2023-11-28T16:52:39.628315100Z",
     "start_time": "2023-11-28T16:52:39.463250200Z"
    }
   },
   "id": "88485d39a502e493"
  },
  {
   "cell_type": "code",
   "execution_count": 57,
   "outputs": [
    {
     "name": "stderr",
     "output_type": "stream",
     "text": [
      "D:\\python\\pycharm projects\\obj_det\\venv\\lib\\site-packages\\keras\\src\\layers\\convolutional\\base_conv.py:99: UserWarning: Do not pass an `input_shape`/`input_dim` argument to a layer. When using Sequential models, prefer using an `Input(shape)` object as the first layer in the model instead.\n",
      "  super().__init__(\n"
     ]
    }
   ],
   "source": [
    "model = models.Sequential()\n",
    "model.add(layers.Conv2D(32, (3, 3), activation='relu', input_shape=(28, 28, 1)))\n",
    "model.add(layers.MaxPooling2D((2, 2)))\n",
    "model.add(layers.Conv2D(64, (3, 3), activation='relu'))\n",
    "model.add(layers.MaxPooling2D((2, 2)))\n",
    "model.add(layers.Conv2D(64, (3, 3), activation='relu'))\n",
    "\n",
    "model.add(layers.Flatten())\n",
    "model.add(layers.Dense(64, activation='relu'))\n",
    "model.add(layers.Dense(26, activation='softmax'))"
   ],
   "metadata": {
    "collapsed": false,
    "ExecuteTime": {
     "end_time": "2023-11-28T17:31:03.513390400Z",
     "start_time": "2023-11-28T17:31:03.396867Z"
    }
   },
   "id": "14a283f715daec0"
  },
  {
   "cell_type": "code",
   "execution_count": 58,
   "outputs": [],
   "source": [
    "model.compile(optimizer='Adam', loss='sparse_categorical_crossentropy', metrics=['accuracy'])"
   ],
   "metadata": {
    "collapsed": false,
    "ExecuteTime": {
     "end_time": "2023-11-28T17:31:05.229797900Z",
     "start_time": "2023-11-28T17:31:05.204793300Z"
    }
   },
   "id": "94cf458a033cc48b"
  },
  {
   "cell_type": "code",
   "execution_count": 59,
   "outputs": [],
   "source": [
    "earlystop = EarlyStopping(monitor='val_accuracy', patience=2, verbose=2, restore_best_weights=True)"
   ],
   "metadata": {
    "collapsed": false,
    "ExecuteTime": {
     "end_time": "2023-11-28T17:31:05.839411400Z",
     "start_time": "2023-11-28T17:31:05.800412400Z"
    }
   },
   "id": "494739345555a9db"
  },
  {
   "cell_type": "code",
   "execution_count": 63,
   "outputs": [
    {
     "name": "stdout",
     "output_type": "stream",
     "text": [
      "Epoch 1/20\n",
      "\u001B[1m76/76\u001B[0m \u001B[32m━━━━━━━━━━━━━━━━━━━━\u001B[0m\u001B[37m\u001B[0m \u001B[1m7s\u001B[0m 97ms/step - accuracy: 0.9877 - loss: 0.0629 - val_accuracy: 0.9941 - val_loss: 0.0487\n",
      "Epoch 2/20\n",
      "\u001B[1m76/76\u001B[0m \u001B[32m━━━━━━━━━━━━━━━━━━━━\u001B[0m\u001B[37m\u001B[0m \u001B[1m7s\u001B[0m 97ms/step - accuracy: 0.9957 - loss: 0.0379 - val_accuracy: 0.9944 - val_loss: 0.0367\n",
      "Epoch 3/20\n",
      "\u001B[1m76/76\u001B[0m \u001B[32m━━━━━━━━━━━━━━━━━━━━\u001B[0m\u001B[37m\u001B[0m \u001B[1m9s\u001B[0m 112ms/step - accuracy: 0.9975 - loss: 0.0291 - val_accuracy: 0.9953 - val_loss: 0.0302\n",
      "Epoch 4/20\n",
      "\u001B[1m76/76\u001B[0m \u001B[32m━━━━━━━━━━━━━━━━━━━━\u001B[0m\u001B[37m\u001B[0m \u001B[1m8s\u001B[0m 111ms/step - accuracy: 0.9988 - loss: 0.0217 - val_accuracy: 0.9967 - val_loss: 0.0265\n",
      "Epoch 5/20\n",
      "\u001B[1m76/76\u001B[0m \u001B[32m━━━━━━━━━━━━━━━━━━━━\u001B[0m\u001B[37m\u001B[0m \u001B[1m10s\u001B[0m 132ms/step - accuracy: 0.9980 - loss: 0.0212 - val_accuracy: 0.9981 - val_loss: 0.0196\n",
      "Epoch 6/20\n",
      "\u001B[1m76/76\u001B[0m \u001B[32m━━━━━━━━━━━━━━━━━━━━\u001B[0m\u001B[37m\u001B[0m \u001B[1m9s\u001B[0m 122ms/step - accuracy: 0.9985 - loss: 0.0167 - val_accuracy: 0.9988 - val_loss: 0.0160\n",
      "Epoch 7/20\n",
      "\u001B[1m76/76\u001B[0m \u001B[32m━━━━━━━━━━━━━━━━━━━━\u001B[0m\u001B[37m\u001B[0m \u001B[1m9s\u001B[0m 114ms/step - accuracy: 0.9994 - loss: 0.0125 - val_accuracy: 0.9992 - val_loss: 0.0121\n",
      "Epoch 8/20\n",
      "\u001B[1m76/76\u001B[0m \u001B[32m━━━━━━━━━━━━━━━━━━━━\u001B[0m\u001B[37m\u001B[0m \u001B[1m9s\u001B[0m 123ms/step - accuracy: 0.9995 - loss: 0.0099 - val_accuracy: 0.9996 - val_loss: 0.0094\n",
      "Epoch 9/20\n",
      "\u001B[1m76/76\u001B[0m \u001B[32m━━━━━━━━━━━━━━━━━━━━\u001B[0m\u001B[37m\u001B[0m \u001B[1m9s\u001B[0m 113ms/step - accuracy: 0.9997 - loss: 0.0068 - val_accuracy: 0.9994 - val_loss: 0.0093\n",
      "Epoch 10/20\n",
      "\u001B[1m76/76\u001B[0m \u001B[32m━━━━━━━━━━━━━━━━━━━━\u001B[0m\u001B[37m\u001B[0m \u001B[1m9s\u001B[0m 114ms/step - accuracy: 0.9997 - loss: 0.0064 - val_accuracy: 0.9985 - val_loss: 0.0106\n",
      "Epoch 10: early stopping\n",
      "Restoring model weights from the end of the best epoch: 8.\n"
     ]
    }
   ],
   "source": [
    "history = model.fit(train_data, train_labels, batch_size=256, epochs=20, validation_split=0.3, callbacks=[earlystop])"
   ],
   "metadata": {
    "collapsed": false,
    "ExecuteTime": {
     "end_time": "2023-11-28T17:34:38.052113300Z",
     "start_time": "2023-11-28T17:33:10.640969100Z"
    }
   },
   "id": "e93e3ddfe7752a83"
  },
  {
   "cell_type": "code",
   "execution_count": 77,
   "outputs": [],
   "source": [
    "model.save('CNNmodel.keras')"
   ],
   "metadata": {
    "collapsed": false,
    "ExecuteTime": {
     "end_time": "2023-11-28T18:01:48.661108300Z",
     "start_time": "2023-11-28T18:01:47.651108Z"
    }
   },
   "id": "d6fb5a7f9e08f845"
  },
  {
   "cell_type": "code",
   "execution_count": 64,
   "outputs": [],
   "source": [
    "test_data = pd.read_csv('archive/sign_mnist_test/sign_mnist_test.csv').drop(columns=['label']).to_numpy().reshape((-1, 28, 28, 1)) / 255\n",
    "test_labels = pd.read_csv('archive/sign_mnist_test/sign_mnist_test.csv')['label'].to_numpy()"
   ],
   "metadata": {
    "collapsed": false,
    "ExecuteTime": {
     "end_time": "2023-11-28T17:34:49.009430900Z",
     "start_time": "2023-11-28T17:34:47.369961100Z"
    }
   },
   "id": "32b946caee019ae7"
  },
  {
   "cell_type": "code",
   "execution_count": 65,
   "outputs": [
    {
     "name": "stdout",
     "output_type": "stream",
     "text": [
      "\u001B[1m225/225\u001B[0m \u001B[32m━━━━━━━━━━━━━━━━━━━━\u001B[0m\u001B[37m\u001B[0m \u001B[1m1s\u001B[0m 6ms/step - accuracy: 0.8981 - loss: 0.4164\n"
     ]
    }
   ],
   "source": [
    "model_loss, model_acc = model.evaluate(test_data, test_labels)"
   ],
   "metadata": {
    "collapsed": false,
    "ExecuteTime": {
     "end_time": "2023-11-28T17:34:51.200058400Z",
     "start_time": "2023-11-28T17:34:49.760562700Z"
    }
   },
   "id": "2031baec4f4593ea"
  }
 ],
 "metadata": {
  "kernelspec": {
   "display_name": "Python 3",
   "language": "python",
   "name": "python3"
  },
  "language_info": {
   "codemirror_mode": {
    "name": "ipython",
    "version": 2
   },
   "file_extension": ".py",
   "mimetype": "text/x-python",
   "name": "python",
   "nbconvert_exporter": "python",
   "pygments_lexer": "ipython2",
   "version": "2.7.6"
  }
 },
 "nbformat": 4,
 "nbformat_minor": 5
}
